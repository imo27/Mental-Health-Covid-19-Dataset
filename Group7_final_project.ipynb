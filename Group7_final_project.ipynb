{
 "cells": [
  {
   "cell_type": "code",
   "execution_count": 1,
   "id": "9f694955",
   "metadata": {},
   "outputs": [],
   "source": [
    "# # install all dependencies as following\n",
    "\n",
    "# !pip install spacy\n",
    "# !python -m spacy download en_core_web_sm\n",
    "\n",
    "# !pip install git+https://github.com/JustAnotherArchivist/snscrape.git\n",
    "# import snscrape.modules.twitter as sntwitter\n",
    "# #!pip install pymongo[srv]\n",
    "#!\n",
    "# # !conda install git"
   ]
  },
  {
   "cell_type": "code",
   "execution_count": 2,
   "id": "c66c44a8",
   "metadata": {},
   "outputs": [
    {
     "data": {
      "text/html": [
       "<style>.container { width:90% !important; }</style>"
      ],
      "text/plain": [
       "<IPython.core.display.HTML object>"
      ]
     },
     "metadata": {},
     "output_type": "display_data"
    }
   ],
   "source": [
    "from IPython.core.display import display, HTML\n",
    "display(HTML(\"<style>.container { width:90% !important; }</style>\"))"
   ]
  },
  {
   "cell_type": "code",
   "execution_count": 3,
   "id": "60b3c032",
   "metadata": {},
   "outputs": [],
   "source": [
    "import json, csv, uuid, config, os, logging, re\n",
    "import pymongo\n",
    "import subprocess\n",
    "#import pandas as pd\n",
    "import numpy as np\n",
    "import spacy\n",
    "from IPython.display import display_javascript, display_html, display\n",
    "from datetime import datetime, date, time, timedelta\n",
    "from pathlib import Path\n",
    "from pprint import pprint\n",
    "from collections import Counter\n",
    "import snscrape.modules.twitter as sntwitter\n",
    "from pandas_profiling import ProfileReport"
   ]
  },
  {
   "cell_type": "code",
   "execution_count": 4,
   "id": "e9542c8b",
   "metadata": {},
   "outputs": [],
   "source": [
    "nlp = spacy.load('en_core_web_sm')"
   ]
  },
  {
   "cell_type": "code",
   "execution_count": 21,
   "id": "014790e7",
   "metadata": {},
   "outputs": [],
   "source": [
    "logging.basicConfig(filename='logs',\n",
    "                            filemode='a',\n",
    "                            format='%(asctime)s,%(msecs)d %(name)s %(levelname)s %(message)s',\n",
    "                            datefmt='%m/%d/%Y %I:%M:%S',\n",
    "                            level=logging.DEBUG)\n",
    "\n",
    "data_folder = Path(\"data/\")\n",
    "covid_tweets_files= data_folder / \"covid_tweets.json\"\n",
    "fmt = '%Y-%m-%d %H:%M:%S'\n",
    "\n",
    "phrases = ['covid-19 mental health',\n",
    " 'depression covid-19',\n",
    " 'Covid Mental Health students',\n",
    " 'students coronavirus',\n",
    " 'college mental health covid',\n",
    " 'isolation covid students',\n",
    " 'isolation coronavirus',\n",
    " 'students depression covid-19',\n",
    " 'students depression covid']\n",
    "\n",
    "since= (datetime.now()+timedelta(days=-360))\n",
    "until = datetime.now()\n",
    "max_results = 1\n",
    "\n",
    "filter_list = ['id',\n",
    "               'content',\n",
    "               'coordinates_longitude',\n",
    "               'coordinates_latitude'\n",
    "               'user_username',\n",
    "               'user_displayname',\n",
    "               'user_verified',\n",
    "               'user_followersCount',\n",
    "               'date',\n",
    "               'user_created',\n",
    "               'likeCount',\n",
    "               'retweetCount',\n",
    "               'url',\n",
    "               'retweetedTweet',\n",
    "               'replyCount'\n",
    "              ]\n",
    "\n",
    "DB_NAME = 'Covid_Mental_Health_V2'\n",
    "RAW_DATA_COLLECTION_NAME = 'RAW_DATA'\n",
    "PROCESSD_DATA_COLLECTION_NAME = 'PROCESSD_DATA'"
   ]
  },
  {
   "cell_type": "code",
   "execution_count": 6,
   "id": "237c81d4",
   "metadata": {
    "scrolled": true
   },
   "outputs": [],
   "source": [
    "client = pymongo.MongoClient(config.Mongo_Address)\n",
    "mydb = client[DB_NAME]"
   ]
  },
  {
   "cell_type": "code",
   "execution_count": 7,
   "id": "c0156333",
   "metadata": {
    "scrolled": true
   },
   "outputs": [],
   "source": [
    "def flatten_dict(dd, separator='_', prefix=''):\n",
    "    \n",
    "    flat_dict = { prefix + separator + k if prefix else k : v\n",
    "             for kk, vv in dd.items()\n",
    "             for k, v in flatten_dict(vv, separator, kk).items()\n",
    "             } if isinstance(dd, dict) else { prefix : dd }\n",
    "    \n",
    "    return  flat_dict"
   ]
  },
  {
   "cell_type": "code",
   "execution_count": 8,
   "id": "7ffb3bf5",
   "metadata": {},
   "outputs": [],
   "source": [
    "def filter_tweet(tweet,fields):\n",
    "    \n",
    "    t = flatten_dict(tweet)\n",
    "    t = { key: t[key] for key in fields if key in t.keys() }\n",
    "    \n",
    "    return t"
   ]
  },
  {
   "cell_type": "code",
   "execution_count": 9,
   "id": "e2ca3581",
   "metadata": {},
   "outputs": [],
   "source": [
    "def remove_links_from_tweet_content(tweet):\n",
    "    \n",
    "    new_content = re.sub(r'https\\S+', '', tweet['content'])\n",
    "    new_content = re.sub(r'@\\S+',\"\",new_content)\n",
    "    new_content = re.sub(r'RT',\"\",new_content)\n",
    "    \n",
    "    tweet['content'] = new_content\n",
    "    \n",
    "    return tweet"
   ]
  },
  {
   "cell_type": "code",
   "execution_count": 10,
   "id": "2d7f8caa",
   "metadata": {},
   "outputs": [],
   "source": [
    "def split_content_into_sents(content):\n",
    "    \n",
    "    sents = [i.text for i in nlp(content).sents]\n",
    "    \n",
    "    return sents"
   ]
  },
  {
   "cell_type": "code",
   "execution_count": 11,
   "id": "39256626",
   "metadata": {},
   "outputs": [],
   "source": [
    "def word_freq(content):\n",
    "    \n",
    "    word_freq = Counter([token.text for token in nlp(content) if not token.is_stop and not token.is_punct and token.text != '$'])\n",
    "    word_freq = dict(word_freq)\n",
    "    \n",
    "    return word_freq"
   ]
  },
  {
   "cell_type": "code",
   "execution_count": 12,
   "id": "8bb738a1",
   "metadata": {},
   "outputs": [],
   "source": [
    "def common_words(content,most_common=5):\n",
    "    \n",
    "    common_words = Counter([token.text for token in nlp(content) if not token.is_stop and not token.is_punct and token.text != '$']).most_common(most_common)\n",
    "    common_words = dict(common_words)\n",
    "    \n",
    "    return common_words"
   ]
  },
  {
   "cell_type": "code",
   "execution_count": 13,
   "id": "8c6a176e",
   "metadata": {},
   "outputs": [],
   "source": [
    "def process_tweet(tweet):\n",
    "    \n",
    "    processed__tweet = tweet\n",
    "    processed__tweet = filter_tweet(processed__tweet,filter_list)\n",
    "    processed__tweet = remove_links_from_tweet_content(processed__tweet)\n",
    "    processed__tweet['sents'] = split_content_into_sents(processed__tweet['content'])    \n",
    "    processed__tweet['word_freq'] = word_freq(processed__tweet['content'])\n",
    "    processed__tweet['common_words'] = common_words(processed__tweet['content'],5)\n",
    "    \n",
    "    return processed__tweet"
   ]
  },
  {
   "cell_type": "code",
   "execution_count": 14,
   "id": "b8588c4f",
   "metadata": {},
   "outputs": [],
   "source": [
    "def insert_tweet_to_database(tweet, collection):\n",
    "    \n",
    "    mydb[collection].replace_one( {\"id\":tweet[\"id\"]}, tweet ,upsert= True)\n",
    "    \n",
    "    return "
   ]
  },
  {
   "cell_type": "code",
   "execution_count": 15,
   "id": "464f9426",
   "metadata": {},
   "outputs": [],
   "source": [
    "def load_tweets( query, since= (datetime.now()+timedelta(days=-7)), until=datetime.now(), lang= 'en', max_results = 1 , collection=RAW_DATA_COLLECTION_NAME ):\n",
    "    \n",
    "\n",
    "    \n",
    "    since = since.strftime('%Y-%m-%d')\n",
    "    until = until.strftime('%Y-%m-%d')\n",
    "    \n",
    "    q = f'{query} since:{since} until:{until} lang:{lang}'\n",
    "    \n",
    "    count = 0\n",
    "    \n",
    "    for i,tweet in enumerate(sntwitter.TwitterSearchScraper(q).get_items()):\n",
    "        if i >= max_results:\n",
    "            break\n",
    "    \n",
    "        tw = {\n",
    "            \"id\" : None,\n",
    "            \"url\" : None,\n",
    "            \"date\" : None,\n",
    "            \"content\" : None,\n",
    "            \"renderedContent\" : None,\n",
    "            \"user\" : {\n",
    "                \"username\" : None, \n",
    "                \"id\" : None, \n",
    "                \"displayname\" : None, \n",
    "                \"description\" : None, \n",
    "                \"rawDescription\" : None, \n",
    "                \"descriptionUrls\" : None, \n",
    "                \"verified\" : None, \n",
    "                \"created\" : None, \n",
    "                \"followersCount\" : None, \n",
    "                \"friendsCount\" : None, \n",
    "                \"statusesCount\" : None, \n",
    "                \"favouritesCount\" : None, \n",
    "                \"listedCount\" : None, \n",
    "                \"mediaCount\" : None, \n",
    "                \"location\" : None, \n",
    "                \"protected\" : None, \n",
    "                \"linkUrl\" : None, \n",
    "                \"linkTcourl\" : None, \n",
    "                \"profileImageUrl\" : None, \n",
    "                \"profileBannerUrl\" : None\n",
    "                },\n",
    "            \"replyCount\" : None, \n",
    "            \"retweetCount\" : None, \n",
    "            \"likeCount\" : None, \n",
    "            \"quoteCount\" : None, \n",
    "            \"conversationId\" : None, \n",
    "            \"lang\" : None, \n",
    "            \"source\" : None, \n",
    "            \"sourceUrl\" : None, \n",
    "            \"sourceLabel\" : None, \n",
    "            \"outlinks\" : None, \n",
    "            \"tcooutlinks\" : None, \n",
    "            \"retweetedTweet\" : None, \n",
    "            \"inReplyToTweetId\" : None, \n",
    "            \"coordinates\" : {\n",
    "                \"longitude\" : None, \n",
    "                \"latitude\" : None\n",
    "            },\n",
    "            \"place\" : {\n",
    "                \"fullName\" : None, \n",
    "                \"name\" : None, \n",
    "                \"type\" : None, \n",
    "                \"country\" : None, \n",
    "                \"countryCode\" : None\n",
    "            }, \n",
    "            \"hashtags\" : None, \n",
    "            \"cashtags\" : None\n",
    "        }\n",
    "        \n",
    "        tw['id'] = tweet.id\n",
    "        tw['url'] = tweet.url\n",
    "        tw['date'] = tweet.date\n",
    "        tw['content'] = tweet.content\n",
    "        tw['renderedContent'] = tweet.renderedContent\n",
    "        tw['user']['username'] = tweet.user.username\n",
    "        tw['user']['id'] = tweet.user.id\n",
    "        tw['user']['displayname'] = tweet.user.displayname\n",
    "        tw['user']['description'] = tweet.user.description\n",
    "        tw['user']['rawDescription'] = tweet.user.rawDescription\n",
    "        tw['user']['descriptionUrls'] = tweet.user.descriptionUrls\n",
    "        tw['user']['verified'] = tweet.user.verified\n",
    "        tw['user']['created'] = tweet.user.created\n",
    "        tw['user']['followersCount'] = tweet.user.followersCount\n",
    "        tw['user']['friendsCount'] = tweet.user.friendsCount\n",
    "        tw['user']['statusesCount'] = tweet.user.statusesCount\n",
    "        tw['user']['favouritesCount'] = tweet.user.favouritesCount\n",
    "        tw['user']['listedCount'] = tweet.user.listedCount\n",
    "        tw['user']['mediaCount'] = tweet.user.mediaCount\n",
    "        tw['user']['location'] = tweet.user.location\n",
    "        tw['user']['protected'] = tweet.user.protected\n",
    "        tw['user']['linkUrl'] = tweet.user.linkUrl\n",
    "        tw['user']['linkTcourl'] = tweet.user.linkTcourl\n",
    "        tw['user']['profileImageUrl'] = tweet.user.profileImageUrl\n",
    "        tw['user']['profileBannerUrl'] = tweet.user.profileBannerUrl\n",
    "        tw['replyCount'] = tweet.replyCount\n",
    "        tw['retweetCount'] = tweet.retweetCount\n",
    "        tw['likeCount'] = tweet.likeCount\n",
    "        tw['quoteCount'] = tweet.quoteCount\n",
    "        tw['conversationId'] = tweet.conversationId\n",
    "        tw['lang'] = tweet.lang\n",
    "        tw['source'] = tweet.source\n",
    "        tw['sourceUrl'] = tweet.sourceUrl\n",
    "        tw['sourceLabel'] = tweet.sourceLabel\n",
    "        tw['outlinks'] = tweet.outlinks\n",
    "        tw['tcooutlinks'] = tweet.tcooutlinks\n",
    "        tw['retweetedTweet'] = tweet.retweetedTweet\n",
    "        tw['inReplyToTweetId'] = tweet.inReplyToTweetId\n",
    "        if tweet.coordinates:\n",
    "            tw['coordinates']['longitude'] = tweet.coordinates.longitude\n",
    "            tw['coordinates']['latitude'] = tweet.coordinates.latitude\n",
    "        if tweet.place:\n",
    "            tw['place']['fullName'] = tweet.place.fullName\n",
    "            tw['place']['name'] = tweet.place.name\n",
    "            tw['place']['type'] = tweet.place.type\n",
    "            tw['place']['country'] = tweet.place.country\n",
    "            tw['place']['countryCode'] = tweet.place.countryCode\n",
    "        tw['hashtags'] = tweet.hashtags\n",
    "        tw['cashtags'] = tweet.cashtags   \n",
    "        \n",
    "        \n",
    "        \n",
    "        p_tw = process_tweet(tw)\n",
    "\n",
    "        insert_tweet_to_database(tw, collection)\n",
    "        insert_tweet_to_database(p_tw, PROCESSD_DATA_COLLECTION_NAME)\n",
    "        \n",
    "\n",
    "        count+=1\n",
    "        \n",
    "        \n",
    "    return count"
   ]
  },
  {
   "cell_type": "code",
   "execution_count": 2,
   "id": "b8bb4968",
   "metadata": {
    "scrolled": true
   },
   "outputs": [],
   "source": [
    "p_start_time = datetime.now()\n",
    "for phrase in phrases:\n",
    "    \n",
    "    start_time = datetime.now()\n",
    "    \n",
    "    print(f'-------   Start loading {phrase} tweets   -------')\n",
    "    logging.info(f'-------   Start loading {phrase} tweets   -------')\n",
    "    \n",
    "    l = load_tweets(phrase, since=since, until=until, max_results=max_results)\n",
    "    \n",
    "    print(f'-------   End loading {phrase} tweets   -------')\n",
    "    logging.info(f'-------   End loading {phrase} tweets   -------')\n",
    "    \n",
    "    end_time = datetime.now()\n",
    "    loading_time = divmod((end_time-start_time).seconds, 60) \n",
    "    \n",
    "    print(f'Loading {phrase} tweets done in {loading_time[0]} minutes {loading_time[1]} seconds\\n\\n\\n')\n",
    "    logging.info(f'Loading{phrase} tweets done in {loading_time[0]} minutes {loading_time[1]} seconds')\n",
    "\n",
    "p_end_time = datetime.now()\n",
    "p_loading_time = divmod((p_end_time-p_start_time).seconds, 60) \n",
    "\n",
    "print(f'Loading all {len(phrases)} phrases tweets doen in {p_loading_time[0]} minutes {p_loading_time[1]} seconds :)')\n",
    "logging.info(f'Loading all {len(phrases)} phrases tweets doen in {p_loading_time[0]} minutes {p_loading_time[1]} seconds :)')"
   ]
  },
  {
   "cell_type": "code",
   "execution_count": null,
   "id": "517ba7a7",
   "metadata": {},
   "outputs": [],
   "source": []
  },
  {
   "cell_type": "code",
   "execution_count": 1,
   "id": "8e530fe4",
   "metadata": {
    "scrolled": true
   },
   "outputs": [],
   "source": [
    "import pandas as pd\n",
    "df = pd.DataFrame(list(mydb[PROCESSD_DATA_COLLECTION_NAME].find()))\n",
    "df"
   ]
  },
  {
   "cell_type": "code",
   "execution_count": null,
   "id": "85c83c85",
   "metadata": {},
   "outputs": [],
   "source": [
    "raw_df = pd.DataFrame(list(mydb[RAW_DATA_COLLECTION_NAME].find()))\n",
    "raw_df"
   ]
  },
  {
   "cell_type": "code",
   "execution_count": null,
   "id": "f03678e7",
   "metadata": {},
   "outputs": [],
   "source": [
    "df.to_csv(\"./data_distribution/PROCESSED_DATA.csv\",index=False)\n",
    "raw_df.to_csv(\"./data_distribution/RAW_DATA.csv\",index=False)"
   ]
  },
  {
   "cell_type": "code",
   "execution_count": null,
   "id": "8d618026",
   "metadata": {},
   "outputs": [],
   "source": [
    "profile = ProfileReport(df)"
   ]
  },
  {
   "cell_type": "code",
   "execution_count": null,
   "id": "b50a341a",
   "metadata": {},
   "outputs": [],
   "source": [
    "profile"
   ]
  },
  {
   "cell_type": "code",
   "execution_count": null,
   "id": "0e2a74ba",
   "metadata": {},
   "outputs": [],
   "source": [
    "profile.to_file(\"data_profile_report.html\")"
   ]
  }
 ],
 "metadata": {
  "kernelspec": {
   "display_name": "Python 3 (ipykernel)",
   "language": "python",
   "name": "python3"
  },
  "language_info": {
   "codemirror_mode": {
    "name": "ipython",
    "version": 3
   },
   "file_extension": ".py",
   "mimetype": "text/x-python",
   "name": "python",
   "nbconvert_exporter": "python",
   "pygments_lexer": "ipython3",
   "version": "3.9.7"
  }
 },
 "nbformat": 4,
 "nbformat_minor": 5
}
